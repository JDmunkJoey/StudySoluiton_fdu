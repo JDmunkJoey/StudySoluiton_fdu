{
 "cells": [
  {
   "cell_type": "code",
   "execution_count": 20,
   "metadata": {
    "collapsed": true
   },
   "outputs": [
    {
     "data": {
      "text/plain": "'\\n连续型Hopfield神经网络求解TSP问题(离散型方法暂不考虑，城市个数为5)\\n1、初始化权值（A,D,U0）\\n2、计算N个城市的距离矩阵dxy\\n3、初始化神经网络的输入电压Uxi和输出电压Vxi\\n4、利用动力微分方程计算：dUxi/dt\\n5、由一阶欧拉方法更新计算：Uxi(t+1) = Uxi(t) + dUxi/dt * step\\n6、由非线性函数sigmoid更新计算：Vxi(t) = 0.5 * (1 + th(Uxi/U0))\\n7、计算能量函数E\\n8、检查路径是否合法\\n'"
     },
     "execution_count": 20,
     "metadata": {},
     "output_type": "execute_result"
    }
   ],
   "source": [
    "'''\n",
    "连续型Hopfield神经网络求解TSP问题(离散型方法暂不考虑，城市个数为5)\n",
    "1、初始化权值（A,D,U0）\n",
    "2、计算N个城市的距离矩阵dxy\n",
    "3、初始化神经网络的输入电压Uxi和输出电压Vxi\n",
    "4、利用动力微分方程计算：dUxi/dt\n",
    "5、由一阶欧拉方法更新计算：Uxi(t+1) = Uxi(t) + dUxi/dt * step\n",
    "6、由非线性函数sigmoid更新计算：Vxi(t) = 0.5 * (1 + th(Uxi/U0))\n",
    "7、计算能量函数E\n",
    "8、检查路径是否合法\n",
    "'''"
   ]
  },
  {
   "cell_type": "code",
   "execution_count": 21,
   "outputs": [
    {
     "name": "stdout",
     "output_type": "stream",
     "text": [
      "第57次迭代找到的次优解距离为：14.127002538749819，能量为：77.25241506712658，路径为：\n",
      "a,b,c,e,d,a\n"
     ]
    },
    {
     "data": {
      "text/plain": "<Figure size 640x480 with 1 Axes>",
      "image/png": "[encoded data removed]"
     },
     "metadata": {},
     "output_type": "display_data"
    },
    {
     "data": {
      "text/plain": "<Figure size 640x480 with 1 Axes>",
      "image/png": "[encoded data removed]"
     },
     "metadata": {},
     "output_type": "display_data"
    }
   ],
   "source": [
    "import numpy as np\n",
    "from matplotlib import pyplot as plt\n",
    "# 代价函数（具有三角不等式性质）\n",
    "def price_cn(vec1, vec2):\n",
    "    return np.linalg.norm(np.array(vec1) - np.array(vec2))\n",
    "def calc_distance(path):\n",
    "    dis = 0.0\n",
    "    for i in range(len(path) - 1):\n",
    "        dis += distance[path[i]][path[i+1]]\n",
    "    return dis\n",
    "# 得到城市之间的距离矩阵\n",
    "def get_distance(citys):\n",
    "    N = len(citys)\n",
    "    distance = np.zeros((N, N))\n",
    "    for i, curr_point in enumerate(citys):\n",
    "        line = []\n",
    "        [line.append(price_cn(curr_point, other_point)) if i != j else line.append(0.0) for j, other_point in enumerate(citys)]\n",
    "        distance[i] = line\n",
    "    return distance\n",
    "# 动态方程计算微分方程du\n",
    "def calc_du(V, distance):\n",
    "    a = np.sum(V, axis=0) - 1  # 按列相加\n",
    "    b = np.sum(V, axis=1) - 1  # 按行相加\n",
    "    t1 = np.zeros((N, N))\n",
    "    t2 = np.zeros((N, N))\n",
    "    for i in range(N):\n",
    "        for j in range(N):\n",
    "            t1[i, j] = a[j]\n",
    "    for i in range(N):\n",
    "        for j in range(N):\n",
    "            t2[j, i] = b[j]\n",
    "    # 将第一列移动到最后一列\n",
    "    c_1 = V[:, 1:N]\n",
    "    c_0 = np.zeros((N, 1))\n",
    "    c_0[:, 0] = V[:, 0]\n",
    "    c = np.concatenate((c_1, c_0), axis=1)\n",
    "    c = np.dot(distance, c)\n",
    "    return -A * (t1 + t2) - D * c\n",
    "# 更新神经网络的输入电压U\n",
    "def calc_U(U, du, step):\n",
    "    return U + du * step\n",
    "# 更新神经网络的输出电压V\n",
    "def calc_V(U, U0):\n",
    "    return 1 / 2 * (1 + np.tanh(U / U0))\n",
    "# 计算当前网络的能量\n",
    "def calc_energy(V, distance):\n",
    "    t1 = np.sum(np.power(np.sum(V, axis=0) - 1, 2))\n",
    "    t2 = np.sum(np.power(np.sum(V, axis=1) - 1, 2))\n",
    "    idx = [i for i in range(1, N)]\n",
    "    idx = idx + [0]\n",
    "    Vt = V[:, idx]\n",
    "    t3 = distance * Vt\n",
    "    t3 = np.sum(np.sum(np.multiply(V, t3)))\n",
    "    e = 0.5 * (A * (t1 + t2) + D * t3)\n",
    "    return e\n",
    "# 检查路径的正确性\n",
    "def check_path(V):\n",
    "    newV = np.zeros([N, N])\n",
    "    route = []\n",
    "    for i in range(N):\n",
    "        mm = np.max(V[:, i])\n",
    "        for j in range(N):\n",
    "            if V[j, i] == mm:\n",
    "                newV[j, i] = 1\n",
    "                route += [j]\n",
    "                break\n",
    "    return route, newV\n",
    "# 可视化画出哈密顿回路和能量趋势\n",
    "def draw_H_E(energys):\n",
    "    fig = plt.figure()\n",
    "    # 绘制能量趋势图\n",
    "    ax2 = fig.add_subplot(122)\n",
    "    ax2.plot(np.arange(0, len(energys), 1), energys, color='red')\n",
    "    plt.show()\n",
    "def draw_H(citys, H_path):\n",
    "    # 绘制哈密顿回路\n",
    "    fig = plt.figure()\n",
    "    ax1 = fig.add_subplot(121)\n",
    "    plt.xlim(0, 7)\n",
    "    plt.ylim(0, 7)\n",
    "    for (from_, to_) in H_path:\n",
    "        p1 = plt.Circle(citys[from_], 0.2, color='red')\n",
    "        p2 = plt.Circle(citys[to_], 0.2, color='red')\n",
    "        ax1.add_patch(p1)\n",
    "        ax1.add_patch(p2)\n",
    "        ax1.plot((citys[from_][0], citys[to_][0]), (citys[from_][1], citys[to_][1]), color='red')\n",
    "        ax1.annotate(text=chr(97 + to_), xy=citys[to_], xytext=(-8, -4), textcoords='offset points', fontsize=20)\n",
    "    ax1.axis('equal')\n",
    "    ax1.grid()\n",
    "    plt.show()\n",
    "if __name__ == '__main__':\n",
    "    citys = np.array([[1, 6], [3, 3], [4, 1], [2, 6], [5, 5]])\n",
    "    distance = get_distance(citys)\n",
    "    N = len(citys)\n",
    "    # 设置初始值\n",
    "    A = N * N\n",
    "    D = N / 2\n",
    "    U0 = 0.0009  # 初始电压\n",
    "    step = 0.0001  # 步长\n",
    "    num_iter = 10000  # 迭代次数\n",
    "    # 初始化神经网络的输入状态（电路的输入电压U）\n",
    "    U = 1 / 2 * U0 * np.log(N - 1) + (2 * (np.random.random((N, N))) - 1)\n",
    "    # 初始化神经网络的输出状态（电路的输出电压V）\n",
    "    V = calc_V(U, U0)\n",
    "    energys = np.array([0.0 for x in range(num_iter)])  # 每次迭代的能量\n",
    "    best_distance = np.inf  # 最优距离\n",
    "    best_route = []  # 最优路线\n",
    "    H_path = []  # 哈密顿回路\n",
    "    # 开始迭代训练网络\n",
    "    for n in range(num_iter):\n",
    "        # 利用动态方程计算du\n",
    "        du = calc_du(V, distance)\n",
    "        # 由一阶欧拉法更新下一个时间的输入状态（电路的输入电压U）\n",
    "        U = calc_U(U, du, step)\n",
    "        # 由sigmoid函数更新下一个时间的输出状态（电路的输出电压V）\n",
    "        V = calc_V(U, U0)\n",
    "        # 计算当前网络的能量E\n",
    "        energys[n] = calc_energy(V, distance)\n",
    "        # 检查路径的合法性\n",
    "        route, newV = check_path(V)\n",
    "        if len(np.unique(route)) == N:\n",
    "            route.append(route[0])\n",
    "            dis = calc_distance(route)\n",
    "            if dis < best_distance:\n",
    "                H_path = []\n",
    "                best_distance = dis\n",
    "                best_route = route\n",
    "                [H_path.append((route[i], route[i + 1])) for i in range(len(route) - 1)]\n",
    "                print('第{}次迭代找到的次优解距离为：{}，能量为：{}，路径为：'.format(n, best_distance, energys[n]))\n",
    "                [print(chr(97 + v), end=',' if i < len(best_route) - 1 else '\\n') for i, v in enumerate(best_route)]\n",
    "    if len(H_path) > 0:\n",
    "        draw_H_E(energys),draw_H(citys, H_path)\n",
    "    else:\n",
    "        print('没有找到最优解')"
   ],
   "metadata": {
    "collapsed": false
   }
  }
 ],
 "metadata": {
  "kernelspec": {
   "display_name": "Python 3",
   "language": "python",
   "name": "python3"
  },
  "language_info": {
   "codemirror_mode": {
    "name": "ipython",
    "version": 2
   },
   "file_extension": ".py",
   "mimetype": "text/x-python",
   "name": "python",
   "nbconvert_exporter": "python",
   "pygments_lexer": "ipython2",
   "version": "2.7.6"
  }
 },
 "nbformat": 4,
 "nbformat_minor": 0
}
