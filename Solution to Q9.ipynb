{
 "cells": [
  {
   "cell_type": "code",
   "execution_count": 12,
   "metadata": {
    "collapsed": true
   },
   "outputs": [
    {
     "name": "stdout",
     "output_type": "stream",
     "text": [
      "4500\n"
     ]
    },
    {
     "data": {
      "text/plain": "                                  subject  \\\n0         friend , never be in pain again   \n1      if you can ' t beat em , join em *   \n2          * detenga la caida del cabello   \n3        dear sir , i am interested in it   \n4           check out the photos ! - m 20   \n...                                   ...   \n5995                        bullets 9 / 1   \n5996                         eog material   \n5997  associate / analyst fall recruiting   \n5998                    tw bullets 1 / 26   \n5999               dashboard enhancements   \n\n                                                content  spam  \n0     is your sister in pain\\nv ^ 1 ' c . o . d . 1 ...     1  \n1     gobbledygook . squamous if gobble psychoacoust...     1  \n2     tnico capilar\\nsolucin a la\\ncalvicie\\ncon la ...     1  \n3     hi : )\\ndo you need some softwares ? i can giv...     1  \n4     you got to see this ! i was trying to pass my ...     1  \n...                                                 ...   ...  \n5995  el paso pipeline update - the us dept . of tra...     0  \n5996  i understand that eog transferred the funds ye...     0  \n5997  correction to super saturday dates\\ntwo dates ...     0  \n5998  capacity marketing - sempra renegotiated a fir...     0  \n5999  in our continuing effort to expand the dashboa...     0  \n\n[6000 rows x 3 columns]",
      "text/html": "<div>\n<style scoped>\n    .dataframe tbody tr th:only-of-type {\n        vertical-align: middle;\n    }\n\n    .dataframe tbody tr th {\n        vertical-align: top;\n    }\n\n    .dataframe thead th {\n        text-align: right;\n    }\n</style>\n<table border=\"1\" class=\"dataframe\">\n  <thead>\n    <tr style=\"text-align: right;\">\n      <th></th>\n      <th>subject</th>\n      <th>content</th>\n      <th>spam</th>\n    </tr>\n  </thead>\n  <tbody>\n    <tr>\n      <th>0</th>\n      <td>friend , never be in pain again</td>\n      <td>is your sister in pain\\nv ^ 1 ' c . o . d . 1 ...</td>\n      <td>1</td>\n    </tr>\n    <tr>\n      <th>1</th>\n      <td>if you can ' t beat em , join em *</td>\n      <td>gobbledygook . squamous if gobble psychoacoust...</td>\n      <td>1</td>\n    </tr>\n    <tr>\n      <th>2</th>\n      <td>* detenga la caida del cabello</td>\n      <td>tnico capilar\\nsolucin a la\\ncalvicie\\ncon la ...</td>\n      <td>1</td>\n    </tr>\n    <tr>\n      <th>3</th>\n      <td>dear sir , i am interested in it</td>\n      <td>hi : )\\ndo you need some softwares ? i can giv...</td>\n      <td>1</td>\n    </tr>\n    <tr>\n      <th>4</th>\n      <td>check out the photos ! - m 20</td>\n      <td>you got to see this ! i was trying to pass my ...</td>\n      <td>1</td>\n    </tr>\n    <tr>\n      <th>...</th>\n      <td>...</td>\n      <td>...</td>\n      <td>...</td>\n    </tr>\n    <tr>\n      <th>5995</th>\n      <td>bullets 9 / 1</td>\n      <td>el paso pipeline update - the us dept . of tra...</td>\n      <td>0</td>\n    </tr>\n    <tr>\n      <th>5996</th>\n      <td>eog material</td>\n      <td>i understand that eog transferred the funds ye...</td>\n      <td>0</td>\n    </tr>\n    <tr>\n      <th>5997</th>\n      <td>associate / analyst fall recruiting</td>\n      <td>correction to super saturday dates\\ntwo dates ...</td>\n      <td>0</td>\n    </tr>\n    <tr>\n      <th>5998</th>\n      <td>tw bullets 1 / 26</td>\n      <td>capacity marketing - sempra renegotiated a fir...</td>\n      <td>0</td>\n    </tr>\n    <tr>\n      <th>5999</th>\n      <td>dashboard enhancements</td>\n      <td>in our continuing effort to expand the dashboa...</td>\n      <td>0</td>\n    </tr>\n  </tbody>\n</table>\n<p>6000 rows × 3 columns</p>\n</div>"
     },
     "execution_count": 12,
     "metadata": {},
     "output_type": "execute_result"
    }
   ],
   "source": [
    "# 第一步 从enron6中提取整合spam和ham的邮件数据\n",
    "import os\n",
    "import pandas as pd\n",
    "\n",
    "filepath = \"/Users/qiaoqiaoqiaoqiaoqiao/Desktop/研一上/机器学习与神经网络导论/期末试题/enron6/\"\n",
    "text_df = {\"subject\": [], \"content\": [], \"spam\": []}\n",
    "for file in os.listdir(filepath + \"spam\"):\n",
    "    with open(filepath + \"spam/\" + file, \"r\", encoding='UTF-8', errors='ignore') as f:\n",
    "        lines = f.readlines()\n",
    "        text_df['subject'].append(lines[0][9:].replace(\"\\n\", \"\"))\n",
    "        text_df['content'].append(\"\".join(lines[1:]))\n",
    "        text_df[\"spam\"].append(1)\n",
    "\n",
    "for file in os.listdir(filepath + \"ham\"):\n",
    "    with open(filepath + \"ham/\" + file, \"r\", encoding='UTF-8') as f:\n",
    "        lines = f.readlines()\n",
    "        text_df['subject'].append(lines[0][9:].replace(\"\\n\", \"\"))\n",
    "        text_df['content'].append(\"\".join(lines[1:]))\n",
    "        text_df[\"spam\"].append(0)\n",
    "text_df = pd.DataFrame(text_df)\n",
    "print(sum(text_df[\"spam\"])) # spam 4500封， ham1500封\n",
    "text_df"
   ]
  },
  {
   "cell_type": "code",
   "execution_count": 13,
   "outputs": [],
   "source": [
    "# 第二步 提取特征 分为训练集、测试集\n",
    "from sklearn.feature_extraction.text import TfidfVectorizer, CountVectorizer\n",
    "from sklearn.model_selection import train_test_split\n",
    "import numpy as np\n",
    "\n",
    "X_train_raw, X_test_raw, Y_train, Y_test = train_test_split(text_df[[\"subject\", 'content']],\n",
    "                                                            text_df[[\"spam\"]],\n",
    "                                                            test_size = 0.2,\n",
    "                                                            random_state = 1000)\n",
    "fe1 = TfidfVectorizer(max_features = 4000)\n",
    "fe2 = CountVectorizer(max_features = 4000)\n",
    "X_train_subject, X_train_content = fe1.fit_transform(X_train_raw[\"subject\"]).toarray(), fe2.fit_transform(\n",
    "    X_train_raw[\"content\"]).toarray()\n",
    "X_test_subject, X_test_content = fe1.transform(X_test_raw[\"subject\"]).toarray(), fe2.transform(\n",
    "    X_test_raw[\"content\"]).toarray()\n",
    "X_train = np.concatenate((X_train_subject, X_train_content), axis = 1)\n",
    "X_test = np.concatenate((X_test_subject, X_test_content), axis = 1)"
   ],
   "metadata": {
    "collapsed": false
   }
  },
  {
   "cell_type": "code",
   "execution_count": 14,
   "outputs": [
    {
     "name": "stderr",
     "output_type": "stream",
     "text": [
      "/Users/qiaoqiaoqiaoqiaoqiao/opt/anaconda3/lib/python3.9/site-packages/sklearn/model_selection/_validation.py:680: DataConversionWarning: A column-vector y was passed when a 1d array was expected. Please change the shape of y to (n_samples,), for example using ravel().\n",
      "  estimator.fit(X_train, y_train, **fit_params)\n",
      "/Users/qiaoqiaoqiaoqiaoqiao/opt/anaconda3/lib/python3.9/site-packages/sklearn/model_selection/_validation.py:680: DataConversionWarning: A column-vector y was passed when a 1d array was expected. Please change the shape of y to (n_samples,), for example using ravel().\n",
      "  estimator.fit(X_train, y_train, **fit_params)\n",
      "/Users/qiaoqiaoqiaoqiaoqiao/opt/anaconda3/lib/python3.9/site-packages/sklearn/model_selection/_validation.py:680: DataConversionWarning: A column-vector y was passed when a 1d array was expected. Please change the shape of y to (n_samples,), for example using ravel().\n",
      "  estimator.fit(X_train, y_train, **fit_params)\n",
      "/Users/qiaoqiaoqiaoqiaoqiao/opt/anaconda3/lib/python3.9/site-packages/sklearn/model_selection/_validation.py:680: DataConversionWarning: A column-vector y was passed when a 1d array was expected. Please change the shape of y to (n_samples,), for example using ravel().\n",
      "  estimator.fit(X_train, y_train, **fit_params)\n",
      "/Users/qiaoqiaoqiaoqiaoqiao/opt/anaconda3/lib/python3.9/site-packages/sklearn/model_selection/_validation.py:680: DataConversionWarning: A column-vector y was passed when a 1d array was expected. Please change the shape of y to (n_samples,), for example using ravel().\n",
      "  estimator.fit(X_train, y_train, **fit_params)\n",
      "/Users/qiaoqiaoqiaoqiaoqiao/opt/anaconda3/lib/python3.9/site-packages/sklearn/model_selection/_validation.py:680: DataConversionWarning: A column-vector y was passed when a 1d array was expected. Please change the shape of y to (n_samples,), for example using ravel().\n",
      "  estimator.fit(X_train, y_train, **fit_params)\n",
      "/Users/qiaoqiaoqiaoqiaoqiao/opt/anaconda3/lib/python3.9/site-packages/sklearn/model_selection/_validation.py:680: DataConversionWarning: A column-vector y was passed when a 1d array was expected. Please change the shape of y to (n_samples,), for example using ravel().\n",
      "  estimator.fit(X_train, y_train, **fit_params)\n",
      "/Users/qiaoqiaoqiaoqiaoqiao/opt/anaconda3/lib/python3.9/site-packages/sklearn/model_selection/_validation.py:680: DataConversionWarning: A column-vector y was passed when a 1d array was expected. Please change the shape of y to (n_samples,), for example using ravel().\n",
      "  estimator.fit(X_train, y_train, **fit_params)\n",
      "/Users/qiaoqiaoqiaoqiaoqiao/opt/anaconda3/lib/python3.9/site-packages/sklearn/model_selection/_validation.py:680: DataConversionWarning: A column-vector y was passed when a 1d array was expected. Please change the shape of y to (n_samples,), for example using ravel().\n",
      "  estimator.fit(X_train, y_train, **fit_params)\n",
      "/Users/qiaoqiaoqiaoqiaoqiao/opt/anaconda3/lib/python3.9/site-packages/sklearn/model_selection/_validation.py:680: DataConversionWarning: A column-vector y was passed when a 1d array was expected. Please change the shape of y to (n_samples,), for example using ravel().\n",
      "  estimator.fit(X_train, y_train, **fit_params)\n",
      "/Users/qiaoqiaoqiaoqiaoqiao/opt/anaconda3/lib/python3.9/site-packages/sklearn/model_selection/_validation.py:680: DataConversionWarning: A column-vector y was passed when a 1d array was expected. Please change the shape of y to (n_samples,), for example using ravel().\n",
      "  estimator.fit(X_train, y_train, **fit_params)\n",
      "/Users/qiaoqiaoqiaoqiaoqiao/opt/anaconda3/lib/python3.9/site-packages/sklearn/model_selection/_validation.py:680: DataConversionWarning: A column-vector y was passed when a 1d array was expected. Please change the shape of y to (n_samples,), for example using ravel().\n",
      "  estimator.fit(X_train, y_train, **fit_params)\n",
      "/Users/qiaoqiaoqiaoqiaoqiao/opt/anaconda3/lib/python3.9/site-packages/sklearn/model_selection/_validation.py:680: DataConversionWarning: A column-vector y was passed when a 1d array was expected. Please change the shape of y to (n_samples,), for example using ravel().\n",
      "  estimator.fit(X_train, y_train, **fit_params)\n",
      "/Users/qiaoqiaoqiaoqiaoqiao/opt/anaconda3/lib/python3.9/site-packages/sklearn/model_selection/_validation.py:680: DataConversionWarning: A column-vector y was passed when a 1d array was expected. Please change the shape of y to (n_samples,), for example using ravel().\n",
      "  estimator.fit(X_train, y_train, **fit_params)\n",
      "/Users/qiaoqiaoqiaoqiaoqiao/opt/anaconda3/lib/python3.9/site-packages/sklearn/model_selection/_validation.py:680: DataConversionWarning: A column-vector y was passed when a 1d array was expected. Please change the shape of y to (n_samples,), for example using ravel().\n",
      "  estimator.fit(X_train, y_train, **fit_params)\n",
      "/Users/qiaoqiaoqiaoqiaoqiao/opt/anaconda3/lib/python3.9/site-packages/sklearn/model_selection/_validation.py:680: DataConversionWarning: A column-vector y was passed when a 1d array was expected. Please change the shape of y to (n_samples,), for example using ravel().\n",
      "  estimator.fit(X_train, y_train, **fit_params)\n",
      "/Users/qiaoqiaoqiaoqiaoqiao/opt/anaconda3/lib/python3.9/site-packages/sklearn/model_selection/_validation.py:680: DataConversionWarning: A column-vector y was passed when a 1d array was expected. Please change the shape of y to (n_samples,), for example using ravel().\n",
      "  estimator.fit(X_train, y_train, **fit_params)\n",
      "/Users/qiaoqiaoqiaoqiaoqiao/opt/anaconda3/lib/python3.9/site-packages/sklearn/model_selection/_validation.py:680: DataConversionWarning: A column-vector y was passed when a 1d array was expected. Please change the shape of y to (n_samples,), for example using ravel().\n",
      "  estimator.fit(X_train, y_train, **fit_params)\n",
      "/Users/qiaoqiaoqiaoqiaoqiao/opt/anaconda3/lib/python3.9/site-packages/sklearn/model_selection/_validation.py:680: DataConversionWarning: A column-vector y was passed when a 1d array was expected. Please change the shape of y to (n_samples,), for example using ravel().\n",
      "  estimator.fit(X_train, y_train, **fit_params)\n",
      "/Users/qiaoqiaoqiaoqiaoqiao/opt/anaconda3/lib/python3.9/site-packages/sklearn/model_selection/_validation.py:680: DataConversionWarning: A column-vector y was passed when a 1d array was expected. Please change the shape of y to (n_samples,), for example using ravel().\n",
      "  estimator.fit(X_train, y_train, **fit_params)\n",
      "/Users/qiaoqiaoqiaoqiaoqiao/opt/anaconda3/lib/python3.9/site-packages/sklearn/model_selection/_search.py:926: DataConversionWarning: A column-vector y was passed when a 1d array was expected. Please change the shape of y to (n_samples,), for example using ravel().\n",
      "  self.best_estimator_.fit(X, y, **fit_params)\n"
     ]
    },
    {
     "data": {
      "text/plain": "{'n_estimators': 50}"
     },
     "execution_count": 14,
     "metadata": {},
     "output_type": "execute_result"
    }
   ],
   "source": [
    "# 随机森林（集成学习）选取最优参数\n",
    "from sklearn.ensemble import RandomForestClassifier\n",
    "from sklearn.model_selection import GridSearchCV\n",
    "\n",
    "parameters = {\"n_estimators\": [10, 20, 50, 100]}\n",
    "clf = RandomForestClassifier()\n",
    "grid = GridSearchCV(clf, parameters, scoring = \"accuracy\")\n",
    "grid.fit(X_train, Y_train)\n",
    "grid.best_params_"
   ],
   "metadata": {
    "collapsed": false
   }
  },
  {
   "cell_type": "code",
   "execution_count": 15,
   "outputs": [
    {
     "name": "stderr",
     "output_type": "stream",
     "text": [
      "/var/folders/t4/ry52w44x5cx1tw8blth644fw0000gn/T/ipykernel_60931/1932289359.py:5: DataConversionWarning: A column-vector y was passed when a 1d array was expected. Please change the shape of y to (n_samples,), for example using ravel().\n",
      "  clf.fit(X_train, Y_train)\n"
     ]
    },
    {
     "name": "stdout",
     "output_type": "stream",
     "text": [
      "              precision    recall  f1-score   support\n",
      "\n",
      "           0       0.94      0.99      0.97       267\n",
      "           1       1.00      0.98      0.99       933\n",
      "\n",
      "    accuracy                           0.98      1200\n",
      "   macro avg       0.97      0.99      0.98      1200\n",
      "weighted avg       0.99      0.98      0.99      1200\n",
      "\n"
     ]
    }
   ],
   "source": [
    "# 第三步 模型中代入最优参数，得到分类评估结果\n",
    "from sklearn.metrics import classification_report\n",
    "\n",
    "clf = RandomForestClassifier(n_estimators = 50)\n",
    "clf.fit(X_train, Y_train)\n",
    "Y_pred = clf.predict(X_test)\n",
    "print(classification_report(Y_pred, Y_test))"
   ],
   "metadata": {
    "collapsed": false
   }
  },
  {
   "cell_type": "code",
   "execution_count": 16,
   "outputs": [],
   "source": [
    "# 可知，该垃圾邮箱识别系统的accuracy准确率高达98%"
   ],
   "metadata": {
    "collapsed": false
   }
  }
 ],
 "metadata": {
  "kernelspec": {
   "display_name": "Python 3",
   "language": "python",
   "name": "python3"
  },
  "language_info": {
   "codemirror_mode": {
    "name": "ipython",
    "version": 2
   },
   "file_extension": ".py",
   "mimetype": "text/x-python",
   "name": "python",
   "nbconvert_exporter": "python",
   "pygments_lexer": "ipython2",
   "version": "2.7.6"
  }
 },
 "nbformat": 4,
 "nbformat_minor": 0
}
